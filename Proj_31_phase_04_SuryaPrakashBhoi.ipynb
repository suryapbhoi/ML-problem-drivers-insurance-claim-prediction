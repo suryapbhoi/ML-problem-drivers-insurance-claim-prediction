{
 "cells": [
  {
   "cell_type": "markdown",
   "id": "00e49e00",
   "metadata": {},
   "source": [
    "### Project 31 - Porto Seguro’s Safe Driver Prediction - Predict if a driver will file an insurance claim next year.\n",
    "## Phase 4: Advanced Modeling and Feature Engineering"
   ]
  },
  {
   "cell_type": "markdown",
   "id": "8588071f",
   "metadata": {},
   "source": [
    "**In this phase, we will use the below algorithms for our modeling:**\n",
    "\n",
    "1. Random Forests\n",
    "2. Gradient Boosted Trees\n",
    "3. Stacking Ensemble\n",
    "4. Multi Layer Perceptron"
   ]
  },
  {
   "cell_type": "markdown",
   "id": "d423bd01",
   "metadata": {},
   "source": [
    "**For model evaluation/ error analysis, we will evaluate/analyse the models using:**\n",
    "\n",
    "1. AUROC\n",
    "2. Log Loss\n",
    "3. Normalized Gini Coefficient"
   ]
  },
  {
   "cell_type": "markdown",
   "id": "d65e2322",
   "metadata": {},
   "source": [
    "Import the libraries that we'll need"
   ]
  },
  {
   "cell_type": "code",
   "execution_count": 1,
   "id": "ee76ae3f",
   "metadata": {},
   "outputs": [],
   "source": [
    "# Numpy and Pandas\n",
    "import numpy as np\n",
    "import pandas as pd\n",
    "pd.set_option('display.max_columns', 100)\n",
    "\n",
    "# Matplotlib\n",
    "import matplotlib.pyplot as plt\n",
    "%matplotlib inline\n",
    "\n",
    "# Seaborn for easier visualization\n",
    "import seaborn as sns\n",
    "sns.set_style('darkgrid')\n",
    "\n",
    "# Supress Future warning\n",
    "import warnings\n",
    "warnings.simplefilter(action='ignore', category=FutureWarning)\n",
    "warnings.simplefilter(action='ignore', category=UserWarning)\n",
    "warnings.simplefilter(action='ignore', category=DeprecationWarning)\n",
    "\n",
    "# import scikit learn\n",
    "import sklearn\n",
    "sklearn.set_config(print_changed_only=False)\n",
    "\n",
    "# For train-test split\n",
    "from sklearn.model_selection import train_test_split\n",
    "\n",
    "# Feature Scaling using StandardScaler\n",
    "from sklearn.preprocessing import StandardScaler"
   ]
  },
  {
   "cell_type": "code",
   "execution_count": 50,
   "id": "16df21c2",
   "metadata": {},
   "outputs": [],
   "source": [
    "# Import Naive Bayes\n",
    "from sklearn.naive_bayes import GaussianNB\n",
    "\n",
    "# Import Logistic Regression\n",
    "from sklearn.linear_model import LogisticRegression\n",
    "\n",
    "# Import DecisionTreeClassifier\n",
    "from sklearn.tree import DecisionTreeClassifier\n",
    "\n",
    "# Function for creating model pipelines\n",
    "from sklearn.pipeline import make_pipeline\n",
    "\n",
    "# Cross_validation\n",
    "from sklearn.model_selection import RandomizedSearchCV, RepeatedStratifiedKFold, cross_val_score\n",
    "\n",
    "# Import Ensembles\n",
    "from sklearn.ensemble import RandomForestClassifier, GradientBoostingClassifier, StackingClassifier\n",
    "\n",
    "# Import MLP\n",
    "from sklearn.neural_network import MLPClassifier"
   ]
  },
  {
   "cell_type": "code",
   "execution_count": 3,
   "id": "f29a4291",
   "metadata": {},
   "outputs": [],
   "source": [
    "# Import confusion_matrix\n",
    "from sklearn.metrics import confusion_matrix\n",
    "\n",
    "# Classification metrics\n",
    "from sklearn.metrics import roc_curve, roc_auc_score, log_loss\n",
    "\n",
    "# Import pickle\n",
    "import pickle"
   ]
  },
  {
   "cell_type": "markdown",
   "id": "ca4f426a",
   "metadata": {},
   "source": [
    "## Helper functions"
   ]
  },
  {
   "cell_type": "markdown",
   "id": "c84d0345",
   "metadata": {},
   "source": [
    "**1. Function to calculate Gini coefficient and Normalized Gini Coefficient**"
   ]
  },
  {
   "cell_type": "code",
   "execution_count": 4,
   "id": "a902f723",
   "metadata": {},
   "outputs": [],
   "source": [
    "# Function to calculate Gini coefficient and Normalized Gini Coefficient\n",
    "def gini(actual, pred):\n",
    "    if (len(actual) == len(pred)):\n",
    "        all = np.asarray(np.c_[actual, pred, np.arange(len(actual))], dtype=np.float)\n",
    "        all = all[np.lexsort((all[:, 2], -1 * all[:, 1]))]\n",
    "        totalLosses = all[:, 0].sum()\n",
    "        giniSum = all[:, 0].cumsum().sum() / totalLosses\n",
    "\n",
    "        giniSum -= (len(actual) + 1) / 2.\n",
    "        return giniSum / len(actual)\n",
    "    return 0\n",
    "\n",
    "# Function to calculate Normalized Gini Coefficient\n",
    "def gini_normalized(actual, pred):\n",
    "    return gini(actual, pred) / gini(actual, actual)"
   ]
  },
  {
   "cell_type": "markdown",
   "id": "e0273a2a",
   "metadata": {},
   "source": [
    "**2. Function to fit a RandomizedSearchCV model of specified algorithm and display its cross-validated score**"
   ]
  },
  {
   "cell_type": "code",
   "execution_count": 5,
   "id": "c4743948",
   "metadata": {},
   "outputs": [],
   "source": [
    "# Function to fit a RandomizedSearchCV model of specified algorithm and display its cross-validated score\n",
    "def fit_model_and_display_score(name, X_train, y_train, cv_val):\n",
    "    # Create cross-validation object from pipeline and hyperparameters\n",
    "    model = RandomizedSearchCV(estimator=pipelines[name],\n",
    "                    param_distributions=hyperparameters[name],\n",
    "                    cv=cv_val,\n",
    "                    n_jobs=-1,\n",
    "                    random_state=123,\n",
    "                    verbose=1)\n",
    "    \n",
    "    # Fit model on X_train, y_train\n",
    "    model.fit(X_train, y_train)\n",
    "    \n",
    "    # Print '{name} has been fitted'\n",
    "    print(name, 'has been fitted')\n",
    "      \n",
    "    # Best score and params\n",
    "    print(\"Best CV score for \"+ name + \": \") \n",
    "    print( np.round(model.best_score_, 3) )\n",
    "    print(\"Best parameters for \" + name + \": \") \n",
    "    print( model.best_params_ )\n",
    "    \n",
    "    # return the model\n",
    "    return model"
   ]
  },
  {
   "cell_type": "markdown",
   "id": "6950a7ca",
   "metadata": {},
   "source": [
    "**3. Function to display Confusion Matrix, TPR and FPR**"
   ]
  },
  {
   "cell_type": "code",
   "execution_count": 6,
   "id": "8b2d1d55",
   "metadata": {},
   "outputs": [],
   "source": [
    "# Function to display Confusion Matrix, TPR and FPR\n",
    "def display_model_cm_fpt_tpr(y_test, pred):\n",
    "    # Confusion Matrix\n",
    "    print(\"Confusion Matrix:\")\n",
    "    cm = confusion_matrix (y_test, pred)\n",
    "    print( cm )\n",
    "    print()\n",
    "    # True Positives (TP)\n",
    "    tp = cm[1][1]\n",
    "\n",
    "    # False Positives (FP)\n",
    "    fp = cm[0][1]\n",
    "\n",
    "    # True Negatives (TN)\n",
    "    tn = cm[0][0]\n",
    "\n",
    "    # False Negatives (FN)\n",
    "    fn = cm[1][0]\n",
    "    \n",
    "    #TPR\n",
    "    true_positive_rate = tp/(tp+fn)\n",
    "    print( 'TPR:', np.round(true_positive_rate, 3) )\n",
    "    \n",
    "    #FPR\n",
    "    false_positive_rate = fp/(tn+fp)\n",
    "    print( 'FPR:', np.round(false_positive_rate, 3) )"
   ]
  },
  {
   "cell_type": "markdown",
   "id": "a37bc253",
   "metadata": {},
   "source": [
    "**4. Function to determine best threshold for classification models**\n",
    "\n",
    "NOTE: The below code for g-means and threshold is partially taken from *https://machinelearningmastery.com/threshold-moving-for-imbalanced-classification/*"
   ]
  },
  {
   "cell_type": "code",
   "execution_count": 7,
   "id": "98cb574c",
   "metadata": {},
   "outputs": [],
   "source": [
    "# Function to determine best threshold for classification models\n",
    "def find_best_classification_threshold(y_test, pred_prob):\n",
    "    # calculate roc curves\n",
    "    fpr, tpr, thresholds = roc_curve(y_test, pred_prob)\n",
    "\n",
    "    # calculate the geometric mean for each threshold\n",
    "    gmeans = np.sqrt(tpr * (1-fpr))\n",
    "    \n",
    "    # locate the index of the largest g-mean\n",
    "    ix = np.argmax(gmeans)\n",
    "    print('Best Threshold=%.3f, G-Mean=%.3f' % (thresholds[ix], gmeans[ix]))\n",
    "    \n",
    "    #return best threshold\n",
    "    return thresholds[ix]"
   ]
  },
  {
   "cell_type": "markdown",
   "id": "700c7a4e",
   "metadata": {},
   "source": [
    "**5. Function to save a fitted model to disk**"
   ]
  },
  {
   "cell_type": "code",
   "execution_count": 8,
   "id": "162e9554",
   "metadata": {},
   "outputs": [],
   "source": [
    "# Function to save a fitted model to disk\n",
    "def save_model_to_disk(model, filename):\n",
    "    filename = filename\n",
    "    pickle.dump(model, open(filename, 'wb'))\n",
    "    print(\"Model saved to disk as\", filename)"
   ]
  },
  {
   "cell_type": "markdown",
   "id": "6a6059fb",
   "metadata": {},
   "source": [
    "## Load the dataset and perform train-test split"
   ]
  },
  {
   "cell_type": "markdown",
   "id": "cc118682",
   "metadata": {},
   "source": [
    "Load our analytical base (table from previous phase)"
   ]
  },
  {
   "cell_type": "code",
   "execution_count": 9,
   "id": "0e6cde4a",
   "metadata": {},
   "outputs": [],
   "source": [
    "abt = pd.read_csv('analytical_base_table.csv')"
   ]
  },
  {
   "cell_type": "code",
   "execution_count": 10,
   "id": "65d248ee",
   "metadata": {},
   "outputs": [
    {
     "name": "stdout",
     "output_type": "stream",
     "text": [
      "(595212, 39)\n"
     ]
    },
    {
     "data": {
      "text/html": [
       "<div>\n",
       "<style scoped>\n",
       "    .dataframe tbody tr th:only-of-type {\n",
       "        vertical-align: middle;\n",
       "    }\n",
       "\n",
       "    .dataframe tbody tr th {\n",
       "        vertical-align: top;\n",
       "    }\n",
       "\n",
       "    .dataframe thead th {\n",
       "        text-align: right;\n",
       "    }\n",
       "</style>\n",
       "<table border=\"1\" class=\"dataframe\">\n",
       "  <thead>\n",
       "    <tr style=\"text-align: right;\">\n",
       "      <th></th>\n",
       "      <th>ps_calc_02</th>\n",
       "      <th>ps_ind_12_bin</th>\n",
       "      <th>ps_ind_07_bin</th>\n",
       "      <th>ps_ind_15</th>\n",
       "      <th>ps_car_08_cat</th>\n",
       "      <th>ps_car_02_cat</th>\n",
       "      <th>ps_car_13</th>\n",
       "      <th>ps_car_07_cat</th>\n",
       "      <th>ps_car_04_cat</th>\n",
       "      <th>ps_car_14</th>\n",
       "      <th>ps_ind_02_cat</th>\n",
       "      <th>ps_ind_17_bin</th>\n",
       "      <th>ps_car_11</th>\n",
       "      <th>ps_ind_18_bin</th>\n",
       "      <th>ps_car_12</th>\n",
       "      <th>ps_ind_04_cat</th>\n",
       "      <th>ps_reg_03</th>\n",
       "      <th>ps_reg_01</th>\n",
       "      <th>ps_car_15</th>\n",
       "      <th>ps_calc_01</th>\n",
       "      <th>ps_car_09_cat</th>\n",
       "      <th>ps_ind_14</th>\n",
       "      <th>ps_ind_16_bin</th>\n",
       "      <th>ps_ind_05_cat</th>\n",
       "      <th>ps_ind_11_bin</th>\n",
       "      <th>ps_ind_01</th>\n",
       "      <th>ps_reg_02</th>\n",
       "      <th>ps_ind_08_bin</th>\n",
       "      <th>ps_car_10_cat</th>\n",
       "      <th>ps_car_03_cat</th>\n",
       "      <th>ps_car_05_cat</th>\n",
       "      <th>ps_car_01_cat</th>\n",
       "      <th>ps_car_06_cat</th>\n",
       "      <th>ps_calc_03</th>\n",
       "      <th>ps_ind_10_bin</th>\n",
       "      <th>ps_ind_06_bin</th>\n",
       "      <th>ps_ind_03</th>\n",
       "      <th>ps_ind_09_bin</th>\n",
       "      <th>target</th>\n",
       "    </tr>\n",
       "  </thead>\n",
       "  <tbody>\n",
       "    <tr>\n",
       "      <th>0</th>\n",
       "      <td>0.5</td>\n",
       "      <td>0</td>\n",
       "      <td>1</td>\n",
       "      <td>11</td>\n",
       "      <td>0</td>\n",
       "      <td>1</td>\n",
       "      <td>0.883679</td>\n",
       "      <td>1</td>\n",
       "      <td>0</td>\n",
       "      <td>0.370810</td>\n",
       "      <td>2</td>\n",
       "      <td>1</td>\n",
       "      <td>2</td>\n",
       "      <td>0</td>\n",
       "      <td>0.400000</td>\n",
       "      <td>1</td>\n",
       "      <td>0.718070</td>\n",
       "      <td>0.7</td>\n",
       "      <td>3.605551</td>\n",
       "      <td>0.6</td>\n",
       "      <td>0</td>\n",
       "      <td>0</td>\n",
       "      <td>0</td>\n",
       "      <td>0</td>\n",
       "      <td>0</td>\n",
       "      <td>2</td>\n",
       "      <td>0.2</td>\n",
       "      <td>0</td>\n",
       "      <td>1</td>\n",
       "      <td>-1</td>\n",
       "      <td>1</td>\n",
       "      <td>10</td>\n",
       "      <td>4</td>\n",
       "      <td>0.2</td>\n",
       "      <td>0</td>\n",
       "      <td>0</td>\n",
       "      <td>5</td>\n",
       "      <td>0</td>\n",
       "      <td>0</td>\n",
       "    </tr>\n",
       "    <tr>\n",
       "      <th>1</th>\n",
       "      <td>0.1</td>\n",
       "      <td>0</td>\n",
       "      <td>0</td>\n",
       "      <td>3</td>\n",
       "      <td>1</td>\n",
       "      <td>1</td>\n",
       "      <td>0.618817</td>\n",
       "      <td>1</td>\n",
       "      <td>0</td>\n",
       "      <td>0.388716</td>\n",
       "      <td>1</td>\n",
       "      <td>0</td>\n",
       "      <td>3</td>\n",
       "      <td>1</td>\n",
       "      <td>0.316228</td>\n",
       "      <td>0</td>\n",
       "      <td>0.766078</td>\n",
       "      <td>0.8</td>\n",
       "      <td>2.449490</td>\n",
       "      <td>0.3</td>\n",
       "      <td>2</td>\n",
       "      <td>0</td>\n",
       "      <td>0</td>\n",
       "      <td>0</td>\n",
       "      <td>0</td>\n",
       "      <td>1</td>\n",
       "      <td>0.4</td>\n",
       "      <td>1</td>\n",
       "      <td>1</td>\n",
       "      <td>-1</td>\n",
       "      <td>-1</td>\n",
       "      <td>11</td>\n",
       "      <td>11</td>\n",
       "      <td>0.3</td>\n",
       "      <td>0</td>\n",
       "      <td>0</td>\n",
       "      <td>7</td>\n",
       "      <td>0</td>\n",
       "      <td>0</td>\n",
       "    </tr>\n",
       "    <tr>\n",
       "      <th>2</th>\n",
       "      <td>0.7</td>\n",
       "      <td>0</td>\n",
       "      <td>0</td>\n",
       "      <td>12</td>\n",
       "      <td>1</td>\n",
       "      <td>1</td>\n",
       "      <td>0.641586</td>\n",
       "      <td>1</td>\n",
       "      <td>0</td>\n",
       "      <td>0.347275</td>\n",
       "      <td>4</td>\n",
       "      <td>0</td>\n",
       "      <td>1</td>\n",
       "      <td>0</td>\n",
       "      <td>0.316228</td>\n",
       "      <td>1</td>\n",
       "      <td>-1.000000</td>\n",
       "      <td>0.0</td>\n",
       "      <td>3.316625</td>\n",
       "      <td>0.5</td>\n",
       "      <td>2</td>\n",
       "      <td>0</td>\n",
       "      <td>1</td>\n",
       "      <td>0</td>\n",
       "      <td>0</td>\n",
       "      <td>5</td>\n",
       "      <td>0.0</td>\n",
       "      <td>1</td>\n",
       "      <td>1</td>\n",
       "      <td>-1</td>\n",
       "      <td>-1</td>\n",
       "      <td>7</td>\n",
       "      <td>14</td>\n",
       "      <td>0.1</td>\n",
       "      <td>0</td>\n",
       "      <td>0</td>\n",
       "      <td>9</td>\n",
       "      <td>0</td>\n",
       "      <td>0</td>\n",
       "    </tr>\n",
       "    <tr>\n",
       "      <th>3</th>\n",
       "      <td>0.9</td>\n",
       "      <td>0</td>\n",
       "      <td>0</td>\n",
       "      <td>8</td>\n",
       "      <td>1</td>\n",
       "      <td>1</td>\n",
       "      <td>0.542949</td>\n",
       "      <td>1</td>\n",
       "      <td>0</td>\n",
       "      <td>0.294958</td>\n",
       "      <td>1</td>\n",
       "      <td>0</td>\n",
       "      <td>1</td>\n",
       "      <td>0</td>\n",
       "      <td>0.374166</td>\n",
       "      <td>0</td>\n",
       "      <td>0.580948</td>\n",
       "      <td>0.9</td>\n",
       "      <td>2.000000</td>\n",
       "      <td>0.6</td>\n",
       "      <td>3</td>\n",
       "      <td>0</td>\n",
       "      <td>1</td>\n",
       "      <td>0</td>\n",
       "      <td>0</td>\n",
       "      <td>0</td>\n",
       "      <td>0.2</td>\n",
       "      <td>0</td>\n",
       "      <td>1</td>\n",
       "      <td>0</td>\n",
       "      <td>1</td>\n",
       "      <td>7</td>\n",
       "      <td>11</td>\n",
       "      <td>0.1</td>\n",
       "      <td>0</td>\n",
       "      <td>1</td>\n",
       "      <td>2</td>\n",
       "      <td>0</td>\n",
       "      <td>0</td>\n",
       "    </tr>\n",
       "    <tr>\n",
       "      <th>4</th>\n",
       "      <td>0.6</td>\n",
       "      <td>0</td>\n",
       "      <td>0</td>\n",
       "      <td>9</td>\n",
       "      <td>1</td>\n",
       "      <td>1</td>\n",
       "      <td>0.565832</td>\n",
       "      <td>1</td>\n",
       "      <td>0</td>\n",
       "      <td>0.365103</td>\n",
       "      <td>2</td>\n",
       "      <td>0</td>\n",
       "      <td>3</td>\n",
       "      <td>0</td>\n",
       "      <td>0.316070</td>\n",
       "      <td>1</td>\n",
       "      <td>0.840759</td>\n",
       "      <td>0.7</td>\n",
       "      <td>2.000000</td>\n",
       "      <td>0.4</td>\n",
       "      <td>2</td>\n",
       "      <td>0</td>\n",
       "      <td>1</td>\n",
       "      <td>0</td>\n",
       "      <td>0</td>\n",
       "      <td>0</td>\n",
       "      <td>0.6</td>\n",
       "      <td>0</td>\n",
       "      <td>1</td>\n",
       "      <td>-1</td>\n",
       "      <td>-1</td>\n",
       "      <td>11</td>\n",
       "      <td>14</td>\n",
       "      <td>0.0</td>\n",
       "      <td>0</td>\n",
       "      <td>1</td>\n",
       "      <td>0</td>\n",
       "      <td>0</td>\n",
       "      <td>0</td>\n",
       "    </tr>\n",
       "  </tbody>\n",
       "</table>\n",
       "</div>"
      ],
      "text/plain": [
       "   ps_calc_02  ps_ind_12_bin  ps_ind_07_bin  ps_ind_15  ps_car_08_cat  \\\n",
       "0         0.5              0              1         11              0   \n",
       "1         0.1              0              0          3              1   \n",
       "2         0.7              0              0         12              1   \n",
       "3         0.9              0              0          8              1   \n",
       "4         0.6              0              0          9              1   \n",
       "\n",
       "   ps_car_02_cat  ps_car_13  ps_car_07_cat  ps_car_04_cat  ps_car_14  \\\n",
       "0              1   0.883679              1              0   0.370810   \n",
       "1              1   0.618817              1              0   0.388716   \n",
       "2              1   0.641586              1              0   0.347275   \n",
       "3              1   0.542949              1              0   0.294958   \n",
       "4              1   0.565832              1              0   0.365103   \n",
       "\n",
       "   ps_ind_02_cat  ps_ind_17_bin  ps_car_11  ps_ind_18_bin  ps_car_12  \\\n",
       "0              2              1          2              0   0.400000   \n",
       "1              1              0          3              1   0.316228   \n",
       "2              4              0          1              0   0.316228   \n",
       "3              1              0          1              0   0.374166   \n",
       "4              2              0          3              0   0.316070   \n",
       "\n",
       "   ps_ind_04_cat  ps_reg_03  ps_reg_01  ps_car_15  ps_calc_01  ps_car_09_cat  \\\n",
       "0              1   0.718070        0.7   3.605551         0.6              0   \n",
       "1              0   0.766078        0.8   2.449490         0.3              2   \n",
       "2              1  -1.000000        0.0   3.316625         0.5              2   \n",
       "3              0   0.580948        0.9   2.000000         0.6              3   \n",
       "4              1   0.840759        0.7   2.000000         0.4              2   \n",
       "\n",
       "   ps_ind_14  ps_ind_16_bin  ps_ind_05_cat  ps_ind_11_bin  ps_ind_01  \\\n",
       "0          0              0              0              0          2   \n",
       "1          0              0              0              0          1   \n",
       "2          0              1              0              0          5   \n",
       "3          0              1              0              0          0   \n",
       "4          0              1              0              0          0   \n",
       "\n",
       "   ps_reg_02  ps_ind_08_bin  ps_car_10_cat  ps_car_03_cat  ps_car_05_cat  \\\n",
       "0        0.2              0              1             -1              1   \n",
       "1        0.4              1              1             -1             -1   \n",
       "2        0.0              1              1             -1             -1   \n",
       "3        0.2              0              1              0              1   \n",
       "4        0.6              0              1             -1             -1   \n",
       "\n",
       "   ps_car_01_cat  ps_car_06_cat  ps_calc_03  ps_ind_10_bin  ps_ind_06_bin  \\\n",
       "0             10              4         0.2              0              0   \n",
       "1             11             11         0.3              0              0   \n",
       "2              7             14         0.1              0              0   \n",
       "3              7             11         0.1              0              1   \n",
       "4             11             14         0.0              0              1   \n",
       "\n",
       "   ps_ind_03  ps_ind_09_bin  target  \n",
       "0          5              0       0  \n",
       "1          7              0       0  \n",
       "2          9              0       0  \n",
       "3          2              0       0  \n",
       "4          0              0       0  "
      ]
     },
     "execution_count": 10,
     "metadata": {},
     "output_type": "execute_result"
    }
   ],
   "source": [
    "print(abt.shape)\n",
    "\n",
    "abt.head()"
   ]
  },
  {
   "cell_type": "markdown",
   "id": "09ff9899",
   "metadata": {},
   "source": [
    "Separate the dataframe into separate objects for the imput features(X) and target variable(y)"
   ]
  },
  {
   "cell_type": "code",
   "execution_count": 11,
   "id": "402334d7",
   "metadata": {},
   "outputs": [],
   "source": [
    "X = abt.drop('target', axis=1)\n",
    "y = abt.target"
   ]
  },
  {
   "cell_type": "code",
   "execution_count": 12,
   "id": "05483ff8",
   "metadata": {},
   "outputs": [
    {
     "name": "stdout",
     "output_type": "stream",
     "text": [
      "(595212, 38)\n",
      "(595212,)\n"
     ]
    }
   ],
   "source": [
    "print(X.shape)\n",
    "print(y.shape)"
   ]
  },
  {
   "cell_type": "markdown",
   "id": "1ce0a42c",
   "metadata": {},
   "source": [
    "Split X and y into training an test sets"
   ]
  },
  {
   "cell_type": "code",
   "execution_count": 13,
   "id": "993866f1",
   "metadata": {},
   "outputs": [
    {
     "name": "stdout",
     "output_type": "stream",
     "text": [
      "476169 119043 476169 119043\n"
     ]
    }
   ],
   "source": [
    "X_train, X_test, y_train, y_test = train_test_split(X, y,\n",
    "                                                   test_size=0.2,\n",
    "                                                   stratify=abt.target,\n",
    "                                                   random_state=1234)\n",
    "\n",
    "print(len(X_train), len(X_test), len(y_train), len(y_test))"
   ]
  },
  {
   "cell_type": "code",
   "execution_count": 14,
   "id": "e3f38415",
   "metadata": {},
   "outputs": [
    {
     "data": {
      "text/plain": [
       "0    458814\n",
       "1     17355\n",
       "Name: target, dtype: int64"
      ]
     },
     "execution_count": 14,
     "metadata": {},
     "output_type": "execute_result"
    }
   ],
   "source": [
    "y_train.value_counts()"
   ]
  },
  {
   "cell_type": "code",
   "execution_count": 15,
   "id": "d856a977",
   "metadata": {},
   "outputs": [
    {
     "data": {
      "text/plain": [
       "0    114704\n",
       "1      4339\n",
       "Name: target, dtype: int64"
      ]
     },
     "execution_count": 15,
     "metadata": {},
     "output_type": "execute_result"
    }
   ],
   "source": [
    "y_test.value_counts()"
   ]
  },
  {
   "cell_type": "markdown",
   "id": "95f7c6cc",
   "metadata": {},
   "source": [
    "## Build the model Pipeline\n",
    "\n",
    "NOTE: We will add more algorithms to the pipeline as we need"
   ]
  },
  {
   "cell_type": "code",
   "execution_count": 16,
   "id": "a547b36a",
   "metadata": {},
   "outputs": [],
   "source": [
    "#Crete the Pipeline dictionary\n",
    "pipelines = {\n",
    "    'rf': make_pipeline(StandardScaler(), RandomForestClassifier(random_state=123)),\n",
    "    'gb': make_pipeline(StandardScaler(), GradientBoostingClassifier(random_state=123))\n",
    "}"
   ]
  },
  {
   "cell_type": "code",
   "execution_count": 17,
   "id": "2f0028ca",
   "metadata": {},
   "outputs": [],
   "source": [
    "# Create hyperparameters dictionary\n",
    "hyperparameters = {}"
   ]
  },
  {
   "cell_type": "markdown",
   "id": "5f69448a",
   "metadata": {},
   "source": [
    "Create empty dictionary called fitted_models, to include models that have been tuned using cross-validation"
   ]
  },
  {
   "cell_type": "code",
   "execution_count": 18,
   "id": "2e83f1e5",
   "metadata": {},
   "outputs": [],
   "source": [
    "fitted_models = {}"
   ]
  },
  {
   "cell_type": "markdown",
   "id": "e37377d9",
   "metadata": {},
   "source": [
    "### 1. Random Forests Classifier"
   ]
  },
  {
   "cell_type": "markdown",
   "id": "9de7973f",
   "metadata": {},
   "source": [
    "Declare the parameter grid for **rf (Random Forests Classifier)**"
   ]
  },
  {
   "cell_type": "code",
   "execution_count": 19,
   "id": "3695f573",
   "metadata": {},
   "outputs": [],
   "source": [
    "# Random Forest hyperparameters\n",
    "rf_hyperparameters = {\n",
    "    'randomforestclassifier__n_estimators': [100, 200],\n",
    "    'randomforestclassifier__max_features': ['auto', 'sqrt', 0.33],\n",
    "    'randomforestclassifier__min_samples_leaf': [1, 3, 5, 10]\n",
    "}"
   ]
  },
  {
   "cell_type": "markdown",
   "id": "214f3c8a",
   "metadata": {},
   "source": [
    "Create or Update the hyperparameters dictionary. We will add to this dictionary, as we apply more algorithms"
   ]
  },
  {
   "cell_type": "code",
   "execution_count": 20,
   "id": "6345f664",
   "metadata": {},
   "outputs": [],
   "source": [
    "# Create or Update hyperparameters dictionary\n",
    "hyperparameters['rf'] = rf_hyperparameters"
   ]
  },
  {
   "cell_type": "markdown",
   "id": "7c0c73cd",
   "metadata": {},
   "source": [
    "**Fit the Random Forests Classifier model, and save it into fitted_models dictionary**"
   ]
  },
  {
   "cell_type": "code",
   "execution_count": 21,
   "id": "57dd6a9e",
   "metadata": {
    "scrolled": true
   },
   "outputs": [
    {
     "name": "stdout",
     "output_type": "stream",
     "text": [
      "Fitting 10 folds for each of 10 candidates, totalling 100 fits\n",
      "rf has been fitted\n",
      "Best CV score for rf: \n",
      "0.964\n",
      "Best parameters for rf: \n",
      "{'randomforestclassifier__n_estimators': 100, 'randomforestclassifier__min_samples_leaf': 3, 'randomforestclassifier__max_features': 0.33}\n"
     ]
    }
   ],
   "source": [
    "rf_model = fit_model_and_display_score(name='rf', X_train=X_train, y_train=y_train, cv_val=10)"
   ]
  },
  {
   "cell_type": "markdown",
   "id": "02471aaa",
   "metadata": {},
   "source": [
    "We find that **Random Forest Classifier with n_estimators = 100, min_samples_leaf = 3 and max_features = 0.33** is our RandomForestClassifier's best estimator with **cross-validated score of 0.964**"
   ]
  },
  {
   "cell_type": "code",
   "execution_count": 22,
   "id": "b5adfc51",
   "metadata": {},
   "outputs": [],
   "source": [
    "# Store model in fitted_models[name] \n",
    "fitted_models['rf'] = rf_model"
   ]
  },
  {
   "cell_type": "code",
   "execution_count": 23,
   "id": "ccf24585",
   "metadata": {},
   "outputs": [
    {
     "name": "stdout",
     "output_type": "stream",
     "text": [
      "Model saved to disk as rf_model.sav\n"
     ]
    }
   ],
   "source": [
    "# Save the Random Forest Classifier model to disk\n",
    "save_model_to_disk(rf_model, 'rf_model.sav')"
   ]
  },
  {
   "cell_type": "markdown",
   "id": "2a5edc08",
   "metadata": {},
   "source": [
    "Get the **predicted classes** from our Random Forest Classifier model"
   ]
  },
  {
   "cell_type": "code",
   "execution_count": 24,
   "id": "0f45fc9d",
   "metadata": {},
   "outputs": [],
   "source": [
    "# Predict classes using our fitted Random Forest Classifier model\n",
    "rf_pred = fitted_models['rf'].predict(X_test)"
   ]
  },
  {
   "cell_type": "markdown",
   "id": "d3c553e5",
   "metadata": {},
   "source": [
    "Check the **Confusion Matrix, TPR and FPR**"
   ]
  },
  {
   "cell_type": "code",
   "execution_count": 25,
   "id": "ba330cfd",
   "metadata": {},
   "outputs": [
    {
     "name": "stdout",
     "output_type": "stream",
     "text": [
      "Confusion Matrix:\n",
      "[[114702      2]\n",
      " [  4339      0]]\n",
      "\n",
      "TPR: 0.0\n",
      "FPR: 0.0\n"
     ]
    }
   ],
   "source": [
    "display_model_cm_fpt_tpr(y_test, rf_pred)"
   ]
  },
  {
   "cell_type": "markdown",
   "id": "a01c1595",
   "metadata": {},
   "source": [
    "**TPR and FPR values are 'zero'**, i.e., **the fitted Random Forest Classifier predicts only negative class**  with the default threshold=0.5.\n",
    "\n",
    "Lets find the best threshold for Random Forest Classifier model (using G-Mean)."
   ]
  },
  {
   "cell_type": "code",
   "execution_count": 26,
   "id": "48c10262",
   "metadata": {},
   "outputs": [],
   "source": [
    "# Predict PROBABILITIES using fitted Random Forest Classifier\n",
    "rf_pred_prob = fitted_models['rf'].predict_proba(X_test)\n",
    "\n",
    "# Get JUST the PREDICTION PROBABILITY for positive class\n",
    "rf_pred_prob = [ p[1] for p in rf_pred_prob ]"
   ]
  },
  {
   "cell_type": "code",
   "execution_count": 27,
   "id": "cb6857fc",
   "metadata": {},
   "outputs": [
    {
     "name": "stdout",
     "output_type": "stream",
     "text": [
      "Best Threshold=0.039, G-Mean=0.572\n"
     ]
    }
   ],
   "source": [
    "# Best threshold for Random Forest Classifier model\n",
    "rf_threshold = np.round( find_best_classification_threshold(y_test, rf_pred_prob), 3 )"
   ]
  },
  {
   "cell_type": "markdown",
   "id": "0d977f72",
   "metadata": {},
   "source": [
    "Get the updated predictions with the **best threshold=0.039**"
   ]
  },
  {
   "cell_type": "code",
   "execution_count": 28,
   "id": "2716bcd3",
   "metadata": {},
   "outputs": [
    {
     "name": "stdout",
     "output_type": "stream",
     "text": [
      "Confusion Matrix:\n",
      "[[64883 49821]\n",
      " [ 1837  2502]]\n",
      "\n",
      "TPR: 0.577\n",
      "FPR: 0.434\n"
     ]
    }
   ],
   "source": [
    "rf_pred = (fitted_models['rf'].predict_proba(X_test)[:,1] >= 0.039).astype(bool)\n",
    "\n",
    "# Display confusion matrix for y_test and pred\n",
    "display_model_cm_fpt_tpr(y_test, rf_pred)"
   ]
  },
  {
   "cell_type": "markdown",
   "id": "c70f54b5",
   "metadata": {},
   "source": [
    "Lets check the **AUROC, Log Loss and Gini Coefficient**  of the Random Forest Classifier model"
   ]
  },
  {
   "cell_type": "code",
   "execution_count": 29,
   "id": "abc87c9b",
   "metadata": {},
   "outputs": [
    {
     "name": "stdout",
     "output_type": "stream",
     "text": [
      "For Random Forest Classifier model:\n",
      "AUROC:  0.599\n",
      "Log Loss:  0.162\n",
      "Normalized Gini Coefficient:  0.145\n"
     ]
    }
   ],
   "source": [
    "# Calculate AUROC\n",
    "print(\"For Random Forest Classifier model:\")\n",
    "print( \"AUROC: \",np.round(roc_auc_score(y_test, rf_pred_prob),3) )\n",
    "\n",
    "# Calculate Log-Loss\n",
    "log_loss_rf = np.round(log_loss(y_test, rf_pred_prob), 3)\n",
    "print(\"Log Loss: \", log_loss_rf)\n",
    "\n",
    "# Calculate Gini Coefficient\n",
    "print(\"Normalized Gini Coefficient: \", np.round(gini_normalized(y_test, rf_pred),3) )"
   ]
  },
  {
   "cell_type": "markdown",
   "id": "9315a35a",
   "metadata": {},
   "source": [
    "**Summary of the Random Forest Classifier model:**\n",
    "1. We get cross-validated score of 0.964\n",
    "2. True Positive rate = 0.577, False Positive Rate = 0.434\n",
    "3. We get AUROC of 0.599 (Still our Logistic Regression models are better than the Random Forest model)\n",
    "4. Log-Loss of 0.162 (Still our Logistic Regression models are better than the Random Forest model)\n",
    "5. Normalized Gini Coefficient = 0.145 (Still our Logistic Regression models are better than the Random Forest model)\n",
    "\n",
    "So, we see that our Logistic Regression models perform better as compared to the Random Forest Classifier model"
   ]
  },
  {
   "cell_type": "markdown",
   "id": "f31178da",
   "metadata": {},
   "source": [
    "### 2. Gradient Boosting Trees Classifier"
   ]
  },
  {
   "cell_type": "markdown",
   "id": "bfade9a9",
   "metadata": {},
   "source": [
    "Declare the parameter grid for **gb (Gradient Boosting Tree Classifier)**"
   ]
  },
  {
   "cell_type": "code",
   "execution_count": 30,
   "id": "03fb1230",
   "metadata": {},
   "outputs": [],
   "source": [
    "# Gradient Boosting Tree hyperparameters\n",
    "gb_hyperparameters = {\n",
    "    'gradientboostingclassifier__n_estimators': [100, 200],\n",
    "    'gradientboostingclassifier__learning_rate': [0.05, 0.1, 0.2],\n",
    "    'gradientboostingclassifier__max_depth': [1, 3, 5]\n",
    "}"
   ]
  },
  {
   "cell_type": "markdown",
   "id": "0d4d61d7",
   "metadata": {},
   "source": [
    "Create or Update the hyperparameters dictionary. We will add to this dictionary, as we apply more algorithms"
   ]
  },
  {
   "cell_type": "code",
   "execution_count": 31,
   "id": "ece55ff5",
   "metadata": {},
   "outputs": [],
   "source": [
    "# Create or Update hyperparameters dictionary\n",
    "hyperparameters['gb'] = gb_hyperparameters"
   ]
  },
  {
   "cell_type": "markdown",
   "id": "30fa9825",
   "metadata": {},
   "source": [
    "**Fit the Gradient Boosting Trees Classifier model, and save it into fitted_models dictionary**"
   ]
  },
  {
   "cell_type": "code",
   "execution_count": 32,
   "id": "db1b7fc6",
   "metadata": {
    "scrolled": true
   },
   "outputs": [
    {
     "name": "stdout",
     "output_type": "stream",
     "text": [
      "Fitting 10 folds for each of 10 candidates, totalling 100 fits\n",
      "gb has been fitted\n",
      "Best CV score for gb: \n",
      "0.964\n",
      "Best parameters for gb: \n",
      "{'gradientboostingclassifier__n_estimators': 200, 'gradientboostingclassifier__max_depth': 1, 'gradientboostingclassifier__learning_rate': 0.1}\n"
     ]
    }
   ],
   "source": [
    "gb_model = fit_model_and_display_score(name='gb', X_train=X_train, y_train=y_train, cv_val=10)"
   ]
  },
  {
   "cell_type": "markdown",
   "id": "47ccf452",
   "metadata": {},
   "source": [
    "We find that **Gradient Boosting Decision Trees Classifier with n_estimators = 200, max_depth = 1 and learning_rate = 0.1** is our GBDT's best estimator with **cross-validated score of 0.964**"
   ]
  },
  {
   "cell_type": "code",
   "execution_count": 33,
   "id": "12904539",
   "metadata": {},
   "outputs": [],
   "source": [
    "# Store model in fitted_models[name] \n",
    "fitted_models['gb'] = gb_model"
   ]
  },
  {
   "cell_type": "code",
   "execution_count": 34,
   "id": "c588568b",
   "metadata": {},
   "outputs": [
    {
     "name": "stdout",
     "output_type": "stream",
     "text": [
      "Model saved to disk as gb_model.sav\n"
     ]
    }
   ],
   "source": [
    "# Save the Gradient Boosting Trees Classifier model to disk\n",
    "save_model_to_disk(gb_model, 'gb_model.sav')"
   ]
  },
  {
   "cell_type": "markdown",
   "id": "07cf820c",
   "metadata": {},
   "source": [
    "Get the **predicted classes** from our Gradient Boosting Decision Trees Classifier model"
   ]
  },
  {
   "cell_type": "code",
   "execution_count": 35,
   "id": "dcffa3ff",
   "metadata": {},
   "outputs": [],
   "source": [
    "# Predict classes using our fitted Gradient Boosting Decision Trees Classifier model\n",
    "gb_pred = fitted_models['gb'].predict(X_test)"
   ]
  },
  {
   "cell_type": "markdown",
   "id": "c75dda34",
   "metadata": {},
   "source": [
    "Check the **Confusion Matrix, TPR and FPR**"
   ]
  },
  {
   "cell_type": "code",
   "execution_count": 36,
   "id": "7ae8a1c3",
   "metadata": {
    "scrolled": true
   },
   "outputs": [
    {
     "name": "stdout",
     "output_type": "stream",
     "text": [
      "Confusion Matrix:\n",
      "[[114704      0]\n",
      " [  4339      0]]\n",
      "\n",
      "TPR: 0.0\n",
      "FPR: 0.0\n"
     ]
    }
   ],
   "source": [
    "display_model_cm_fpt_tpr(y_test, gb_pred)"
   ]
  },
  {
   "cell_type": "markdown",
   "id": "eefda739",
   "metadata": {},
   "source": [
    "**TPR and FPR values are 'zero'**, i.e., **the fitted Gradient Boosting Decision Trees Classifier predicts only negative class**  with the default threshold=0.5.\n",
    "\n",
    "Lets find the best threshold for Gradient Boosting Decision Trees Classifier model (using G-Mean)."
   ]
  },
  {
   "cell_type": "code",
   "execution_count": 37,
   "id": "a7addbb1",
   "metadata": {},
   "outputs": [],
   "source": [
    "# Predict PROBABILITIES using fitted Gradient Boosting Decision Trees Classifier\n",
    "gb_pred_prob = fitted_models['gb'].predict_proba(X_test)\n",
    "\n",
    "# Get JUST the PREDICTION PROBABILITY for positive class\n",
    "gb_pred_prob = [ p[1] for p in gb_pred_prob ]"
   ]
  },
  {
   "cell_type": "code",
   "execution_count": 38,
   "id": "a5271d61",
   "metadata": {},
   "outputs": [
    {
     "name": "stdout",
     "output_type": "stream",
     "text": [
      "Best Threshold=0.035, G-Mean=0.587\n"
     ]
    }
   ],
   "source": [
    "# Best threshold for Gradient Boosting Decision Trees Classifier model\n",
    "gb_threshold = np.round( find_best_classification_threshold(y_test, gb_pred_prob), 3 )"
   ]
  },
  {
   "cell_type": "markdown",
   "id": "bb35a169",
   "metadata": {},
   "source": [
    "Get the updated predictions with the **best threshold=0.035**"
   ]
  },
  {
   "cell_type": "code",
   "execution_count": 39,
   "id": "8c3ed337",
   "metadata": {
    "scrolled": true
   },
   "outputs": [
    {
     "name": "stdout",
     "output_type": "stream",
     "text": [
      "Confusion Matrix:\n",
      "[[65604 49100]\n",
      " [ 1737  2602]]\n",
      "\n",
      "TPR: 0.6\n",
      "FPR: 0.428\n"
     ]
    }
   ],
   "source": [
    "gb_pred = (fitted_models['gb'].predict_proba(X_test)[:,1] >= 0.035).astype(bool)\n",
    "\n",
    "# Display confusion matrix for y_test and pred\n",
    "display_model_cm_fpt_tpr(y_test, gb_pred)"
   ]
  },
  {
   "cell_type": "markdown",
   "id": "9e4385d0",
   "metadata": {},
   "source": [
    "Lets check the **AUROC, Log Loss and Gini Coefficient**  of the Gradient Boosting Decision Trees Classifier model"
   ]
  },
  {
   "cell_type": "code",
   "execution_count": 40,
   "id": "e3c3bb21",
   "metadata": {},
   "outputs": [
    {
     "name": "stdout",
     "output_type": "stream",
     "text": [
      "For Gradient Boosting Decision Trees Classifier model:\n",
      "AUROC:  0.626\n",
      "Log Loss:  0.153\n",
      "Normalized Gini Coefficient:  0.173\n"
     ]
    }
   ],
   "source": [
    "# Calculate AUROC\n",
    "print(\"For Gradient Boosting Decision Trees Classifier model:\")\n",
    "print( \"AUROC: \",np.round(roc_auc_score(y_test, gb_pred_prob),3) )\n",
    "\n",
    "# Calculate Log-Loss\n",
    "log_loss_gb = np.round(log_loss(y_test, gb_pred_prob), 3)\n",
    "print(\"Log Loss: \", log_loss_gb)\n",
    "\n",
    "# Calculate Gini Coefficient\n",
    "print(\"Normalized Gini Coefficient: \", np.round(gini_normalized(y_test, gb_pred),3) )"
   ]
  },
  {
   "cell_type": "markdown",
   "id": "6b62aa2c",
   "metadata": {},
   "source": [
    "**Summary of the Gradient Boosting Decision Trees Classifier model:**\n",
    "1. We get cross-validated score of 0.964\n",
    "2. True Positive rate = 0.6, False Positive Rate = 0.428\n",
    "3. We get AUROC of 0.626 (Sightly better than the Logistic Regression models)\n",
    "4. Log-Loss of 0.153 (Same as the Logistic Regression models)\n",
    "5. Normalized Gini Coefficient = 0.173 (Same as the Logistic Regression models)\n",
    "\n",
    "So, we see that our Gradient Boosting Decision Trees Classifier model performance is slightly better than the Logistic Regression models"
   ]
  },
  {
   "cell_type": "markdown",
   "id": "fe47e1da",
   "metadata": {},
   "source": [
    "### 3. Stacking Classifier"
   ]
  },
  {
   "cell_type": "markdown",
   "id": "d2cf7e19",
   "metadata": {},
   "source": [
    "Define the **base learners** for the Stacking Ensemble Classifier"
   ]
  },
  {
   "cell_type": "code",
   "execution_count": 41,
   "id": "a7171356",
   "metadata": {},
   "outputs": [],
   "source": [
    "# Create Base Learners\n",
    "base_learners = [\n",
    "    ('nb_clf', make_pipeline(StandardScaler(), \n",
    "                             GaussianNB(var_smoothing=1.0)) ),\n",
    "     \n",
    "    ('dt_clf', make_pipeline(StandardScaler(), \n",
    "                             DecisionTreeClassifier(splitter='best', min_samples_leaf= 10, max_features = 10, \n",
    "                                                    max_depth= 6, criterion= 'gini', random_state=123)) ),\n",
    "     \n",
    "    ('rf_clf', make_pipeline(StandardScaler(), \n",
    "                             RandomForestClassifier(n_estimators = 100, min_samples_leaf = 3, \n",
    "                                                    max_features = 0.33,random_state=123)) ),\n",
    "     \n",
    "    ('gb_clf', make_pipeline(StandardScaler(), \n",
    "                             GradientBoostingClassifier(n_estimators = 200, max_depth = 1 ,\n",
    "                                                         learning_rate = 0.1, random_state=123)) )\n",
    "     \n",
    "]"
   ]
  },
  {
   "cell_type": "markdown",
   "id": "f803ae0d",
   "metadata": {},
   "source": [
    "Define the **meta learner model (L1-Logistic Regression)** and the **Stacking Ensemble**"
   ]
  },
  {
   "cell_type": "code",
   "execution_count": 42,
   "id": "5536cde4",
   "metadata": {},
   "outputs": [],
   "source": [
    "# Initialize Stacking Classifier with the Meta Learner and Cross-validation\n",
    "stack_clf = StackingClassifier(estimators=base_learners, \n",
    "                               final_estimator=make_pipeline(StandardScaler(), \n",
    "                                                             LogisticRegression(penalty='l1', solver = 'liblinear',\n",
    "                                                                                C=5, random_state=123)), \n",
    "                               cv=10,\n",
    "                               stack_method='predict',\n",
    "                               verbose=2,\n",
    "                               n_jobs=-1)"
   ]
  },
  {
   "cell_type": "markdown",
   "id": "2d9fc91a",
   "metadata": {},
   "source": [
    "Fit and save the Stacking Ensemble Classifier model"
   ]
  },
  {
   "cell_type": "code",
   "execution_count": 43,
   "id": "3a4443fd",
   "metadata": {},
   "outputs": [],
   "source": [
    "# Fit the Stacking Ensemble Classifier\n",
    "stack_model = stack_clf.fit(X_train, y_train)"
   ]
  },
  {
   "cell_type": "code",
   "execution_count": 52,
   "id": "e20f2a5e",
   "metadata": {},
   "outputs": [],
   "source": [
    "# Store model in fitted_models[name] \n",
    "fitted_models['stk'] = stack_model"
   ]
  },
  {
   "cell_type": "code",
   "execution_count": 53,
   "id": "49c0f3e9",
   "metadata": {},
   "outputs": [
    {
     "name": "stdout",
     "output_type": "stream",
     "text": [
      "Model saved to disk as stack_model.sav\n"
     ]
    }
   ],
   "source": [
    "# Save the Stacking Classifier model to disk\n",
    "save_model_to_disk(stack_model, 'stack_model.sav')"
   ]
  },
  {
   "cell_type": "markdown",
   "id": "84d83eaf",
   "metadata": {},
   "source": [
    "Get the **predicted classes** from our Stacking Ensemble Classifier model"
   ]
  },
  {
   "cell_type": "code",
   "execution_count": 54,
   "id": "aa8b0904",
   "metadata": {},
   "outputs": [],
   "source": [
    "# Predict classes using our fitted Stacking Ensemble Classifier model\n",
    "stack_pred = fitted_models['stk'].predict(X_test)"
   ]
  },
  {
   "cell_type": "markdown",
   "id": "e2b7b006",
   "metadata": {},
   "source": [
    "Check the **Confusion Matrix, TPR and FPR**"
   ]
  },
  {
   "cell_type": "code",
   "execution_count": 55,
   "id": "a29a904f",
   "metadata": {},
   "outputs": [
    {
     "name": "stdout",
     "output_type": "stream",
     "text": [
      "Confusion Matrix:\n",
      "[[114703      1]\n",
      " [  4338      1]]\n",
      "\n",
      "TPR: 0.0\n",
      "FPR: 0.0\n"
     ]
    }
   ],
   "source": [
    "display_model_cm_fpt_tpr(y_test, stack_pred)"
   ]
  },
  {
   "cell_type": "markdown",
   "id": "75c4938e",
   "metadata": {},
   "source": [
    "**TPR and FPR values are 'zero'**, i.e., **the fitted Stacking Ensemble Classifier predicts only negative class**  with the default threshold=0.5.\n",
    "\n",
    "Lets find the best threshold for Stacking Ensemble Classifier model (using G-Mean)."
   ]
  },
  {
   "cell_type": "code",
   "execution_count": 56,
   "id": "f3c79655",
   "metadata": {},
   "outputs": [],
   "source": [
    "# Predict PROBABILITIES using fitted Stacking Ensemble Classifier\n",
    "stack_pred_prob = fitted_models['stk'].predict_proba(X_test)\n",
    "\n",
    "# Get JUST the PREDICTION PROBABILITY for positive class\n",
    "stack_pred_prob = [ p[1] for p in stack_pred_prob ]"
   ]
  },
  {
   "cell_type": "code",
   "execution_count": 57,
   "id": "fd7907eb",
   "metadata": {},
   "outputs": [
    {
     "name": "stdout",
     "output_type": "stream",
     "text": [
      "Best Threshold=0.064, G-Mean=0.187\n"
     ]
    }
   ],
   "source": [
    "# Best threshold for Stacking Ensemble Classifier model\n",
    "stack_threshold = np.round( find_best_classification_threshold(y_test, stack_pred_prob), 3 )"
   ]
  },
  {
   "cell_type": "markdown",
   "id": "87d0daaa",
   "metadata": {},
   "source": [
    "Get the updated predictions with the **best threshold=0.064**"
   ]
  },
  {
   "cell_type": "code",
   "execution_count": 58,
   "id": "e57a4de4",
   "metadata": {},
   "outputs": [
    {
     "name": "stdout",
     "output_type": "stream",
     "text": [
      "Confusion Matrix:\n",
      "[[114699      5]\n",
      " [  4338      1]]\n",
      "\n",
      "TPR: 0.0\n",
      "FPR: 0.0\n"
     ]
    }
   ],
   "source": [
    "stack_pred = (fitted_models['stk'].predict_proba(X_test)[:,1] >= 0.064).astype(bool)\n",
    "\n",
    "# Display confusion matrix for y_test and pred\n",
    "display_model_cm_fpt_tpr(y_test, stack_pred)"
   ]
  },
  {
   "cell_type": "markdown",
   "id": "d4c4dd4e",
   "metadata": {},
   "source": [
    "Lets check the **AUROC, Log Loss and Gini Coefficient**  of the Gradient Boosting Decision Trees Classifier model"
   ]
  },
  {
   "cell_type": "code",
   "execution_count": 59,
   "id": "4986a9ec",
   "metadata": {},
   "outputs": [
    {
     "name": "stdout",
     "output_type": "stream",
     "text": [
      "For Stacking Ensemble Classifier model:\n",
      "AUROC:  0.508\n",
      "Log Loss:  0.156\n",
      "Normalized Gini Coefficient:  0.004\n"
     ]
    }
   ],
   "source": [
    "# Calculate AUROC\n",
    "print(\"For Stacking Ensemble Classifier model:\")\n",
    "print( \"AUROC: \",np.round(roc_auc_score(y_test, stack_pred_prob),3) )\n",
    "\n",
    "# Calculate Log-Loss\n",
    "log_loss_stack = np.round(log_loss(y_test, stack_pred_prob), 3)\n",
    "print(\"Log Loss: \", log_loss_stack)\n",
    "\n",
    "# Calculate Gini Coefficient\n",
    "print(\"Normalized Gini Coefficient: \", np.round(gini_normalized(y_test, stack_pred),3) )"
   ]
  },
  {
   "cell_type": "markdown",
   "id": "76bd4c01",
   "metadata": {},
   "source": [
    "**Summary of the Stacking Ensemble Classifier model:**\n",
    "1. True Positive rate = 0.0, False Positive Rate = 0.0\n",
    "2. We get AUROC of 0.508 \n",
    "3. Log-Loss of 0.156\n",
    "4. Normalized Gini Coefficient = 0.004 \n",
    "\n",
    "So, we have better performing models than the Stacking Ensemble Classifier."
   ]
  },
  {
   "cell_type": "markdown",
   "id": "299b631d",
   "metadata": {},
   "source": [
    "### 4. Multi Layer Perceptron Classifier"
   ]
  },
  {
   "cell_type": "markdown",
   "id": "b1acdba9",
   "metadata": {},
   "source": [
    "Load the entire dataset"
   ]
  },
  {
   "cell_type": "code",
   "execution_count": 62,
   "id": "53891962",
   "metadata": {
    "scrolled": false
   },
   "outputs": [
    {
     "data": {
      "text/html": [
       "<div>\n",
       "<style scoped>\n",
       "    .dataframe tbody tr th:only-of-type {\n",
       "        vertical-align: middle;\n",
       "    }\n",
       "\n",
       "    .dataframe tbody tr th {\n",
       "        vertical-align: top;\n",
       "    }\n",
       "\n",
       "    .dataframe thead th {\n",
       "        text-align: right;\n",
       "    }\n",
       "</style>\n",
       "<table border=\"1\" class=\"dataframe\">\n",
       "  <thead>\n",
       "    <tr style=\"text-align: right;\">\n",
       "      <th></th>\n",
       "      <th>id</th>\n",
       "      <th>target</th>\n",
       "      <th>ps_ind_01</th>\n",
       "      <th>ps_ind_02_cat</th>\n",
       "      <th>ps_ind_03</th>\n",
       "      <th>ps_ind_04_cat</th>\n",
       "      <th>ps_ind_05_cat</th>\n",
       "      <th>ps_ind_06_bin</th>\n",
       "      <th>ps_ind_07_bin</th>\n",
       "      <th>ps_ind_08_bin</th>\n",
       "      <th>ps_ind_09_bin</th>\n",
       "      <th>ps_ind_10_bin</th>\n",
       "      <th>ps_ind_11_bin</th>\n",
       "      <th>ps_ind_12_bin</th>\n",
       "      <th>ps_ind_13_bin</th>\n",
       "      <th>ps_ind_14</th>\n",
       "      <th>ps_ind_15</th>\n",
       "      <th>ps_ind_16_bin</th>\n",
       "      <th>ps_ind_17_bin</th>\n",
       "      <th>ps_ind_18_bin</th>\n",
       "      <th>ps_reg_01</th>\n",
       "      <th>ps_reg_02</th>\n",
       "      <th>ps_reg_03</th>\n",
       "      <th>ps_car_01_cat</th>\n",
       "      <th>ps_car_02_cat</th>\n",
       "      <th>ps_car_03_cat</th>\n",
       "      <th>ps_car_04_cat</th>\n",
       "      <th>ps_car_05_cat</th>\n",
       "      <th>ps_car_06_cat</th>\n",
       "      <th>ps_car_07_cat</th>\n",
       "      <th>ps_car_08_cat</th>\n",
       "      <th>ps_car_09_cat</th>\n",
       "      <th>ps_car_10_cat</th>\n",
       "      <th>ps_car_11_cat</th>\n",
       "      <th>ps_car_11</th>\n",
       "      <th>ps_car_12</th>\n",
       "      <th>ps_car_13</th>\n",
       "      <th>ps_car_14</th>\n",
       "      <th>ps_car_15</th>\n",
       "      <th>ps_calc_01</th>\n",
       "      <th>ps_calc_02</th>\n",
       "      <th>ps_calc_03</th>\n",
       "      <th>ps_calc_04</th>\n",
       "      <th>ps_calc_05</th>\n",
       "      <th>ps_calc_06</th>\n",
       "      <th>ps_calc_07</th>\n",
       "      <th>ps_calc_08</th>\n",
       "      <th>ps_calc_09</th>\n",
       "      <th>ps_calc_10</th>\n",
       "      <th>ps_calc_11</th>\n",
       "      <th>ps_calc_12</th>\n",
       "      <th>ps_calc_13</th>\n",
       "      <th>ps_calc_14</th>\n",
       "      <th>ps_calc_15_bin</th>\n",
       "      <th>ps_calc_16_bin</th>\n",
       "      <th>ps_calc_17_bin</th>\n",
       "      <th>ps_calc_18_bin</th>\n",
       "      <th>ps_calc_19_bin</th>\n",
       "      <th>ps_calc_20_bin</th>\n",
       "    </tr>\n",
       "  </thead>\n",
       "  <tbody>\n",
       "    <tr>\n",
       "      <th>0</th>\n",
       "      <td>7</td>\n",
       "      <td>0</td>\n",
       "      <td>2</td>\n",
       "      <td>2</td>\n",
       "      <td>5</td>\n",
       "      <td>1</td>\n",
       "      <td>0</td>\n",
       "      <td>0</td>\n",
       "      <td>1</td>\n",
       "      <td>0</td>\n",
       "      <td>0</td>\n",
       "      <td>0</td>\n",
       "      <td>0</td>\n",
       "      <td>0</td>\n",
       "      <td>0</td>\n",
       "      <td>0</td>\n",
       "      <td>11</td>\n",
       "      <td>0</td>\n",
       "      <td>1</td>\n",
       "      <td>0</td>\n",
       "      <td>0.7</td>\n",
       "      <td>0.2</td>\n",
       "      <td>0.718070</td>\n",
       "      <td>10</td>\n",
       "      <td>1</td>\n",
       "      <td>-1</td>\n",
       "      <td>0</td>\n",
       "      <td>1</td>\n",
       "      <td>4</td>\n",
       "      <td>1</td>\n",
       "      <td>0</td>\n",
       "      <td>0</td>\n",
       "      <td>1</td>\n",
       "      <td>12</td>\n",
       "      <td>2</td>\n",
       "      <td>0.400000</td>\n",
       "      <td>0.883679</td>\n",
       "      <td>0.370810</td>\n",
       "      <td>3.605551</td>\n",
       "      <td>0.6</td>\n",
       "      <td>0.5</td>\n",
       "      <td>0.2</td>\n",
       "      <td>3</td>\n",
       "      <td>1</td>\n",
       "      <td>10</td>\n",
       "      <td>1</td>\n",
       "      <td>10</td>\n",
       "      <td>1</td>\n",
       "      <td>5</td>\n",
       "      <td>9</td>\n",
       "      <td>1</td>\n",
       "      <td>5</td>\n",
       "      <td>8</td>\n",
       "      <td>0</td>\n",
       "      <td>1</td>\n",
       "      <td>1</td>\n",
       "      <td>0</td>\n",
       "      <td>0</td>\n",
       "      <td>1</td>\n",
       "    </tr>\n",
       "    <tr>\n",
       "      <th>1</th>\n",
       "      <td>9</td>\n",
       "      <td>0</td>\n",
       "      <td>1</td>\n",
       "      <td>1</td>\n",
       "      <td>7</td>\n",
       "      <td>0</td>\n",
       "      <td>0</td>\n",
       "      <td>0</td>\n",
       "      <td>0</td>\n",
       "      <td>1</td>\n",
       "      <td>0</td>\n",
       "      <td>0</td>\n",
       "      <td>0</td>\n",
       "      <td>0</td>\n",
       "      <td>0</td>\n",
       "      <td>0</td>\n",
       "      <td>3</td>\n",
       "      <td>0</td>\n",
       "      <td>0</td>\n",
       "      <td>1</td>\n",
       "      <td>0.8</td>\n",
       "      <td>0.4</td>\n",
       "      <td>0.766078</td>\n",
       "      <td>11</td>\n",
       "      <td>1</td>\n",
       "      <td>-1</td>\n",
       "      <td>0</td>\n",
       "      <td>-1</td>\n",
       "      <td>11</td>\n",
       "      <td>1</td>\n",
       "      <td>1</td>\n",
       "      <td>2</td>\n",
       "      <td>1</td>\n",
       "      <td>19</td>\n",
       "      <td>3</td>\n",
       "      <td>0.316228</td>\n",
       "      <td>0.618817</td>\n",
       "      <td>0.388716</td>\n",
       "      <td>2.449490</td>\n",
       "      <td>0.3</td>\n",
       "      <td>0.1</td>\n",
       "      <td>0.3</td>\n",
       "      <td>2</td>\n",
       "      <td>1</td>\n",
       "      <td>9</td>\n",
       "      <td>5</td>\n",
       "      <td>8</td>\n",
       "      <td>1</td>\n",
       "      <td>7</td>\n",
       "      <td>3</td>\n",
       "      <td>1</td>\n",
       "      <td>1</td>\n",
       "      <td>9</td>\n",
       "      <td>0</td>\n",
       "      <td>1</td>\n",
       "      <td>1</td>\n",
       "      <td>0</td>\n",
       "      <td>1</td>\n",
       "      <td>0</td>\n",
       "    </tr>\n",
       "    <tr>\n",
       "      <th>2</th>\n",
       "      <td>13</td>\n",
       "      <td>0</td>\n",
       "      <td>5</td>\n",
       "      <td>4</td>\n",
       "      <td>9</td>\n",
       "      <td>1</td>\n",
       "      <td>0</td>\n",
       "      <td>0</td>\n",
       "      <td>0</td>\n",
       "      <td>1</td>\n",
       "      <td>0</td>\n",
       "      <td>0</td>\n",
       "      <td>0</td>\n",
       "      <td>0</td>\n",
       "      <td>0</td>\n",
       "      <td>0</td>\n",
       "      <td>12</td>\n",
       "      <td>1</td>\n",
       "      <td>0</td>\n",
       "      <td>0</td>\n",
       "      <td>0.0</td>\n",
       "      <td>0.0</td>\n",
       "      <td>-1.000000</td>\n",
       "      <td>7</td>\n",
       "      <td>1</td>\n",
       "      <td>-1</td>\n",
       "      <td>0</td>\n",
       "      <td>-1</td>\n",
       "      <td>14</td>\n",
       "      <td>1</td>\n",
       "      <td>1</td>\n",
       "      <td>2</td>\n",
       "      <td>1</td>\n",
       "      <td>60</td>\n",
       "      <td>1</td>\n",
       "      <td>0.316228</td>\n",
       "      <td>0.641586</td>\n",
       "      <td>0.347275</td>\n",
       "      <td>3.316625</td>\n",
       "      <td>0.5</td>\n",
       "      <td>0.7</td>\n",
       "      <td>0.1</td>\n",
       "      <td>2</td>\n",
       "      <td>2</td>\n",
       "      <td>9</td>\n",
       "      <td>1</td>\n",
       "      <td>8</td>\n",
       "      <td>2</td>\n",
       "      <td>7</td>\n",
       "      <td>4</td>\n",
       "      <td>2</td>\n",
       "      <td>7</td>\n",
       "      <td>7</td>\n",
       "      <td>0</td>\n",
       "      <td>1</td>\n",
       "      <td>1</td>\n",
       "      <td>0</td>\n",
       "      <td>1</td>\n",
       "      <td>0</td>\n",
       "    </tr>\n",
       "    <tr>\n",
       "      <th>3</th>\n",
       "      <td>16</td>\n",
       "      <td>0</td>\n",
       "      <td>0</td>\n",
       "      <td>1</td>\n",
       "      <td>2</td>\n",
       "      <td>0</td>\n",
       "      <td>0</td>\n",
       "      <td>1</td>\n",
       "      <td>0</td>\n",
       "      <td>0</td>\n",
       "      <td>0</td>\n",
       "      <td>0</td>\n",
       "      <td>0</td>\n",
       "      <td>0</td>\n",
       "      <td>0</td>\n",
       "      <td>0</td>\n",
       "      <td>8</td>\n",
       "      <td>1</td>\n",
       "      <td>0</td>\n",
       "      <td>0</td>\n",
       "      <td>0.9</td>\n",
       "      <td>0.2</td>\n",
       "      <td>0.580948</td>\n",
       "      <td>7</td>\n",
       "      <td>1</td>\n",
       "      <td>0</td>\n",
       "      <td>0</td>\n",
       "      <td>1</td>\n",
       "      <td>11</td>\n",
       "      <td>1</td>\n",
       "      <td>1</td>\n",
       "      <td>3</td>\n",
       "      <td>1</td>\n",
       "      <td>104</td>\n",
       "      <td>1</td>\n",
       "      <td>0.374166</td>\n",
       "      <td>0.542949</td>\n",
       "      <td>0.294958</td>\n",
       "      <td>2.000000</td>\n",
       "      <td>0.6</td>\n",
       "      <td>0.9</td>\n",
       "      <td>0.1</td>\n",
       "      <td>2</td>\n",
       "      <td>4</td>\n",
       "      <td>7</td>\n",
       "      <td>1</td>\n",
       "      <td>8</td>\n",
       "      <td>4</td>\n",
       "      <td>2</td>\n",
       "      <td>2</td>\n",
       "      <td>2</td>\n",
       "      <td>4</td>\n",
       "      <td>9</td>\n",
       "      <td>0</td>\n",
       "      <td>0</td>\n",
       "      <td>0</td>\n",
       "      <td>0</td>\n",
       "      <td>0</td>\n",
       "      <td>0</td>\n",
       "    </tr>\n",
       "    <tr>\n",
       "      <th>4</th>\n",
       "      <td>17</td>\n",
       "      <td>0</td>\n",
       "      <td>0</td>\n",
       "      <td>2</td>\n",
       "      <td>0</td>\n",
       "      <td>1</td>\n",
       "      <td>0</td>\n",
       "      <td>1</td>\n",
       "      <td>0</td>\n",
       "      <td>0</td>\n",
       "      <td>0</td>\n",
       "      <td>0</td>\n",
       "      <td>0</td>\n",
       "      <td>0</td>\n",
       "      <td>0</td>\n",
       "      <td>0</td>\n",
       "      <td>9</td>\n",
       "      <td>1</td>\n",
       "      <td>0</td>\n",
       "      <td>0</td>\n",
       "      <td>0.7</td>\n",
       "      <td>0.6</td>\n",
       "      <td>0.840759</td>\n",
       "      <td>11</td>\n",
       "      <td>1</td>\n",
       "      <td>-1</td>\n",
       "      <td>0</td>\n",
       "      <td>-1</td>\n",
       "      <td>14</td>\n",
       "      <td>1</td>\n",
       "      <td>1</td>\n",
       "      <td>2</td>\n",
       "      <td>1</td>\n",
       "      <td>82</td>\n",
       "      <td>3</td>\n",
       "      <td>0.316070</td>\n",
       "      <td>0.565832</td>\n",
       "      <td>0.365103</td>\n",
       "      <td>2.000000</td>\n",
       "      <td>0.4</td>\n",
       "      <td>0.6</td>\n",
       "      <td>0.0</td>\n",
       "      <td>2</td>\n",
       "      <td>2</td>\n",
       "      <td>6</td>\n",
       "      <td>3</td>\n",
       "      <td>10</td>\n",
       "      <td>2</td>\n",
       "      <td>12</td>\n",
       "      <td>3</td>\n",
       "      <td>1</td>\n",
       "      <td>1</td>\n",
       "      <td>3</td>\n",
       "      <td>0</td>\n",
       "      <td>0</td>\n",
       "      <td>0</td>\n",
       "      <td>1</td>\n",
       "      <td>1</td>\n",
       "      <td>0</td>\n",
       "    </tr>\n",
       "  </tbody>\n",
       "</table>\n",
       "</div>"
      ],
      "text/plain": [
       "   id  target  ps_ind_01  ps_ind_02_cat  ps_ind_03  ps_ind_04_cat  \\\n",
       "0   7       0          2              2          5              1   \n",
       "1   9       0          1              1          7              0   \n",
       "2  13       0          5              4          9              1   \n",
       "3  16       0          0              1          2              0   \n",
       "4  17       0          0              2          0              1   \n",
       "\n",
       "   ps_ind_05_cat  ps_ind_06_bin  ps_ind_07_bin  ps_ind_08_bin  ps_ind_09_bin  \\\n",
       "0              0              0              1              0              0   \n",
       "1              0              0              0              1              0   \n",
       "2              0              0              0              1              0   \n",
       "3              0              1              0              0              0   \n",
       "4              0              1              0              0              0   \n",
       "\n",
       "   ps_ind_10_bin  ps_ind_11_bin  ps_ind_12_bin  ps_ind_13_bin  ps_ind_14  \\\n",
       "0              0              0              0              0          0   \n",
       "1              0              0              0              0          0   \n",
       "2              0              0              0              0          0   \n",
       "3              0              0              0              0          0   \n",
       "4              0              0              0              0          0   \n",
       "\n",
       "   ps_ind_15  ps_ind_16_bin  ps_ind_17_bin  ps_ind_18_bin  ps_reg_01  \\\n",
       "0         11              0              1              0        0.7   \n",
       "1          3              0              0              1        0.8   \n",
       "2         12              1              0              0        0.0   \n",
       "3          8              1              0              0        0.9   \n",
       "4          9              1              0              0        0.7   \n",
       "\n",
       "   ps_reg_02  ps_reg_03  ps_car_01_cat  ps_car_02_cat  ps_car_03_cat  \\\n",
       "0        0.2   0.718070             10              1             -1   \n",
       "1        0.4   0.766078             11              1             -1   \n",
       "2        0.0  -1.000000              7              1             -1   \n",
       "3        0.2   0.580948              7              1              0   \n",
       "4        0.6   0.840759             11              1             -1   \n",
       "\n",
       "   ps_car_04_cat  ps_car_05_cat  ps_car_06_cat  ps_car_07_cat  ps_car_08_cat  \\\n",
       "0              0              1              4              1              0   \n",
       "1              0             -1             11              1              1   \n",
       "2              0             -1             14              1              1   \n",
       "3              0              1             11              1              1   \n",
       "4              0             -1             14              1              1   \n",
       "\n",
       "   ps_car_09_cat  ps_car_10_cat  ps_car_11_cat  ps_car_11  ps_car_12  \\\n",
       "0              0              1             12          2   0.400000   \n",
       "1              2              1             19          3   0.316228   \n",
       "2              2              1             60          1   0.316228   \n",
       "3              3              1            104          1   0.374166   \n",
       "4              2              1             82          3   0.316070   \n",
       "\n",
       "   ps_car_13  ps_car_14  ps_car_15  ps_calc_01  ps_calc_02  ps_calc_03  \\\n",
       "0   0.883679   0.370810   3.605551         0.6         0.5         0.2   \n",
       "1   0.618817   0.388716   2.449490         0.3         0.1         0.3   \n",
       "2   0.641586   0.347275   3.316625         0.5         0.7         0.1   \n",
       "3   0.542949   0.294958   2.000000         0.6         0.9         0.1   \n",
       "4   0.565832   0.365103   2.000000         0.4         0.6         0.0   \n",
       "\n",
       "   ps_calc_04  ps_calc_05  ps_calc_06  ps_calc_07  ps_calc_08  ps_calc_09  \\\n",
       "0           3           1          10           1          10           1   \n",
       "1           2           1           9           5           8           1   \n",
       "2           2           2           9           1           8           2   \n",
       "3           2           4           7           1           8           4   \n",
       "4           2           2           6           3          10           2   \n",
       "\n",
       "   ps_calc_10  ps_calc_11  ps_calc_12  ps_calc_13  ps_calc_14  ps_calc_15_bin  \\\n",
       "0           5           9           1           5           8               0   \n",
       "1           7           3           1           1           9               0   \n",
       "2           7           4           2           7           7               0   \n",
       "3           2           2           2           4           9               0   \n",
       "4          12           3           1           1           3               0   \n",
       "\n",
       "   ps_calc_16_bin  ps_calc_17_bin  ps_calc_18_bin  ps_calc_19_bin  \\\n",
       "0               1               1               0               0   \n",
       "1               1               1               0               1   \n",
       "2               1               1               0               1   \n",
       "3               0               0               0               0   \n",
       "4               0               0               1               1   \n",
       "\n",
       "   ps_calc_20_bin  \n",
       "0               1  \n",
       "1               0  \n",
       "2               0  \n",
       "3               0  \n",
       "4               0  "
      ]
     },
     "execution_count": 62,
     "metadata": {},
     "output_type": "execute_result"
    }
   ],
   "source": [
    "# Read the dataset\n",
    "df = pd.read_csv('Dataset/train.csv')\n",
    "df.head()"
   ]
  },
  {
   "cell_type": "markdown",
   "id": "70cabc68",
   "metadata": {},
   "source": [
    "**We can drop the 'id' column from our dataset**"
   ]
  },
  {
   "cell_type": "code",
   "execution_count": 64,
   "id": "3c19a35e",
   "metadata": {},
   "outputs": [
    {
     "name": "stdout",
     "output_type": "stream",
     "text": [
      "(595212, 58)\n"
     ]
    }
   ],
   "source": [
    "# Drop the 'id' column\n",
    "df = df.drop('id', axis=1)\n",
    "print( df.shape )"
   ]
  },
  {
   "cell_type": "markdown",
   "id": "7a6a4ae2",
   "metadata": {},
   "source": [
    "Separate the dataframe into separate objects for the input features(X) and target variable(y)"
   ]
  },
  {
   "cell_type": "code",
   "execution_count": 65,
   "id": "f6a64621",
   "metadata": {},
   "outputs": [
    {
     "name": "stdout",
     "output_type": "stream",
     "text": [
      "(595212, 57)\n",
      "(595212,)\n"
     ]
    }
   ],
   "source": [
    "X = df.drop('target', axis=1)\n",
    "y = df.target\n",
    "\n",
    "print(X.shape)\n",
    "print(y.shape)"
   ]
  },
  {
   "cell_type": "markdown",
   "id": "56918759",
   "metadata": {},
   "source": [
    "Split X and y into training an test sets"
   ]
  },
  {
   "cell_type": "code",
   "execution_count": 66,
   "id": "b5e18e38",
   "metadata": {},
   "outputs": [
    {
     "name": "stdout",
     "output_type": "stream",
     "text": [
      "476169 119043 476169 119043\n"
     ]
    }
   ],
   "source": [
    "X_train, X_test, y_train, y_test = train_test_split(X, y,\n",
    "                                                   test_size=0.2,\n",
    "                                                   stratify=df.target,\n",
    "                                                   random_state=1234)\n",
    "\n",
    "print(len(X_train), len(X_test), len(y_train), len(y_test))"
   ]
  },
  {
   "cell_type": "code",
   "execution_count": 69,
   "id": "94dfc2c2",
   "metadata": {},
   "outputs": [],
   "source": [
    "#Update the Pipeline dictionary\n",
    "pipelines['mlp'] = make_pipeline(StandardScaler(),\n",
    "                                 MLPClassifier(learning_rate='adaptive', random_state=123))"
   ]
  },
  {
   "cell_type": "markdown",
   "id": "fa792211",
   "metadata": {},
   "source": [
    "Declare the parameter grid for **mlp (Multi Layer Perceptron Classifier)**"
   ]
  },
  {
   "cell_type": "code",
   "execution_count": 74,
   "id": "ead265f4",
   "metadata": {},
   "outputs": [],
   "source": [
    "# Gradient Boosting Tree hyperparameters\n",
    "mlp_hyperparameters = {\n",
    "    'mlpclassifier__hidden_layer_sizes': [(30,15), (20,10)],\n",
    "    'mlpclassifier__max_iter': [50, 100, 150],\n",
    "    'mlpclassifier__activation': ['tanh', 'relu'],\n",
    "    'mlpclassifier__solver': ['sgd', 'adam'],\n",
    "    'mlpclassifier__alpha': [0.0001, 0.05]\n",
    "}"
   ]
  },
  {
   "cell_type": "markdown",
   "id": "821dde44",
   "metadata": {},
   "source": [
    "Create or Update the hyperparameters dictionary. We will add to this dictionary, as we apply more algorithms"
   ]
  },
  {
   "cell_type": "code",
   "execution_count": 75,
   "id": "465c5eaf",
   "metadata": {},
   "outputs": [],
   "source": [
    "# Create or Update hyperparameters dictionary\n",
    "hyperparameters['mlp'] = mlp_hyperparameters"
   ]
  },
  {
   "cell_type": "markdown",
   "id": "74d7352f",
   "metadata": {},
   "source": [
    "**Fit the MLP Classifier model, and save it into fitted_models dictionary**"
   ]
  },
  {
   "cell_type": "code",
   "execution_count": 76,
   "id": "ab598b0d",
   "metadata": {
    "scrolled": true
   },
   "outputs": [
    {
     "name": "stdout",
     "output_type": "stream",
     "text": [
      "Fitting 10 folds for each of 10 candidates, totalling 100 fits\n",
      "mlp has been fitted\n",
      "Best CV score for mlp: \n",
      "0.964\n",
      "Best parameters for mlp: \n",
      "{'mlpclassifier__solver': 'sgd', 'mlpclassifier__max_iter': 50, 'mlpclassifier__hidden_layer_sizes': (20, 10), 'mlpclassifier__alpha': 0.05, 'mlpclassifier__activation': 'tanh'}\n"
     ]
    }
   ],
   "source": [
    "mlp_model = fit_model_and_display_score(name='mlp', X_train=X_train, y_train=y_train, cv_val=10)"
   ]
  },
  {
   "cell_type": "markdown",
   "id": "763eb85c",
   "metadata": {},
   "source": [
    "We find that **MLP Classifier with solver='sgd', max_iter=50, hidden_layer_sizes=(20, 10), alpha=0.05 and activation='tanh'** is our MLP's best estimator with **cross-validated score of 0.964**"
   ]
  },
  {
   "cell_type": "code",
   "execution_count": 77,
   "id": "250a81a0",
   "metadata": {},
   "outputs": [],
   "source": [
    "# Store model in fitted_models[name] \n",
    "fitted_models['mlp'] = mlp_model"
   ]
  },
  {
   "cell_type": "code",
   "execution_count": 78,
   "id": "59850b36",
   "metadata": {},
   "outputs": [
    {
     "name": "stdout",
     "output_type": "stream",
     "text": [
      "Model saved to disk as mlp_model.sav\n"
     ]
    }
   ],
   "source": [
    "# Save the MLP Classifier model to disk\n",
    "save_model_to_disk(mlp_model, 'mlp_model.sav')"
   ]
  },
  {
   "cell_type": "markdown",
   "id": "4bf86bf6",
   "metadata": {},
   "source": [
    "Get the **predicted classes** from our MLP Classifier model"
   ]
  },
  {
   "cell_type": "code",
   "execution_count": 79,
   "id": "eff99c8b",
   "metadata": {},
   "outputs": [],
   "source": [
    "# Predict classes using our fitted MLP Classifier model\n",
    "mlp_pred = fitted_models['mlp'].predict(X_test)"
   ]
  },
  {
   "cell_type": "markdown",
   "id": "a75d6dc2",
   "metadata": {},
   "source": [
    "Check the **Confusion Matrix, TPR and FPR**"
   ]
  },
  {
   "cell_type": "code",
   "execution_count": 80,
   "id": "96d609bb",
   "metadata": {
    "scrolled": true
   },
   "outputs": [
    {
     "name": "stdout",
     "output_type": "stream",
     "text": [
      "Confusion Matrix:\n",
      "[[114704      0]\n",
      " [  4339      0]]\n",
      "\n",
      "TPR: 0.0\n",
      "FPR: 0.0\n"
     ]
    }
   ],
   "source": [
    "display_model_cm_fpt_tpr(y_test, mlp_pred)"
   ]
  },
  {
   "cell_type": "markdown",
   "id": "03cc158d",
   "metadata": {},
   "source": [
    "**TPR and FPR values are 'zero'**, i.e., **the fitted MLP Classifier predicts only negative class**  with the default threshold=0.5.\n",
    "\n",
    "Lets find the best threshold for MLP Classifier model (using G-Mean)."
   ]
  },
  {
   "cell_type": "code",
   "execution_count": 81,
   "id": "81d8ac6e",
   "metadata": {},
   "outputs": [],
   "source": [
    "# Predict PROBABILITIES using fitted MLP Classifier\n",
    "mlp_pred_prob = fitted_models['mlp'].predict_proba(X_test)\n",
    "\n",
    "# Get JUST the PREDICTION PROBABILITY for positive class\n",
    "mlp_pred_prob = [ p[1] for p in mlp_pred_prob ]"
   ]
  },
  {
   "cell_type": "code",
   "execution_count": 82,
   "id": "4147fdac",
   "metadata": {},
   "outputs": [
    {
     "name": "stdout",
     "output_type": "stream",
     "text": [
      "Best Threshold=0.034, G-Mean=0.586\n"
     ]
    }
   ],
   "source": [
    "# Best threshold for MLP Classifier model\n",
    "mlp_threshold = np.round( find_best_classification_threshold(y_test, mlp_pred_prob), 3 )"
   ]
  },
  {
   "cell_type": "markdown",
   "id": "02bd4a5e",
   "metadata": {},
   "source": [
    "Get the updated predictions with the **best threshold=0.034**"
   ]
  },
  {
   "cell_type": "code",
   "execution_count": 83,
   "id": "0b89c1a9",
   "metadata": {
    "scrolled": true
   },
   "outputs": [
    {
     "name": "stdout",
     "output_type": "stream",
     "text": [
      "Confusion Matrix:\n",
      "[[64810 49894]\n",
      " [ 1710  2629]]\n",
      "\n",
      "TPR: 0.606\n",
      "FPR: 0.435\n"
     ]
    }
   ],
   "source": [
    "mlp_pred = (fitted_models['mlp'].predict_proba(X_test)[:,1] >= 0.034).astype(bool)\n",
    "\n",
    "# Display confusion matrix for y_test and pred\n",
    "display_model_cm_fpt_tpr(y_test, mlp_pred)"
   ]
  },
  {
   "cell_type": "markdown",
   "id": "503a6215",
   "metadata": {},
   "source": [
    "Lets check the **AUROC, Log Loss and Gini Coefficient**  of the MLP Classifier model"
   ]
  },
  {
   "cell_type": "code",
   "execution_count": 84,
   "id": "b0e1a5f4",
   "metadata": {},
   "outputs": [
    {
     "name": "stdout",
     "output_type": "stream",
     "text": [
      "For Multi Layer Perceptron Classifier model:\n",
      "AUROC:  0.617\n",
      "Log Loss:  0.153\n",
      "Normalized Gini Coefficient:  0.173\n"
     ]
    }
   ],
   "source": [
    "# Calculate AUROC\n",
    "print(\"For Multi Layer Perceptron Classifier model:\")\n",
    "print( \"AUROC: \",np.round(roc_auc_score(y_test, mlp_pred_prob),3) )\n",
    "\n",
    "# Calculate Log-Loss\n",
    "log_loss_mlp = np.round(log_loss(y_test, mlp_pred_prob), 3)\n",
    "print(\"Log Loss: \", log_loss_mlp)\n",
    "\n",
    "# Calculate Gini Coefficient\n",
    "print(\"Normalized Gini Coefficient: \", np.round(gini_normalized(y_test, mlp_pred),3) )"
   ]
  },
  {
   "cell_type": "markdown",
   "id": "8fbe0f17",
   "metadata": {},
   "source": [
    "**Summary of the MLP Classifier model:**\n",
    "1. We get cross-validated score of 0.964\n",
    "2. True Positive rate = 0.617, False Positive Rate = 0.435\n",
    "3. We get AUROC of 0.617 \n",
    "4. Log-Loss of 0.153 \n",
    "5. Normalized Gini Coefficient = 0.173 \n",
    "\n",
    "So, we see that our MLP Classifier model performance is similar to the Logistic Regression models"
   ]
  },
  {
   "cell_type": "markdown",
   "id": "9754480e",
   "metadata": {},
   "source": [
    "## Summary"
   ]
  },
  {
   "cell_type": "markdown",
   "id": "904deb8b",
   "metadata": {},
   "source": [
    "As part of model building, we built the below models:\n",
    "1. Naive Bayes Classifier (GaussianNB)\n",
    "2. L1-regularized Logistic Regression\n",
    "3. L2-regularized Logistic Regression\n",
    "4. Elastic Net-regularized Logistic Regression\n",
    "5. Decision Tree Classifier\n",
    "6. Random Forests Classifier\n",
    "7. Gradient Boosting Tress Classifier\n",
    "8. Stacking Ensemble Classifier\n",
    "9. Multi Layer Perceptron Classifier\n",
    "\n",
    "As part of model evaluation and error analysis, we evaluated/anaylzed their:\n",
    "1. AUROC\n",
    "2. Log Loss\n",
    "3. Normalized Gini Coefficient"
   ]
  },
  {
   "cell_type": "markdown",
   "id": "d8f64ec3",
   "metadata": {},
   "source": [
    "We found that all the **Logistic Regression models (L1, L2 and Elastic-Net) performed the best** and had the same metric values:\n",
    "* AUROC of 0.617\n",
    "* Log Loss of 0.153\n",
    "* Normalized Gini Coefficient = 0.172\n",
    "\n",
    "So, we finalize the **ElasticNet Logistic Regression** as our final model for this problem"
   ]
  },
  {
   "cell_type": "markdown",
   "id": "67ef76e5",
   "metadata": {},
   "source": [
    "## Evaluate the model using kaggle.com test data"
   ]
  },
  {
   "cell_type": "markdown",
   "id": "02856c13",
   "metadata": {},
   "source": [
    "Load the Elastic Net Logistic Regression Model from the disk"
   ]
  },
  {
   "cell_type": "code",
   "execution_count": 86,
   "id": "5c4c8ea7",
   "metadata": {},
   "outputs": [],
   "source": [
    "filename = 'enet_model.sav'\n",
    "enet_model = pickle.load(open(filename, 'rb'))"
   ]
  },
  {
   "cell_type": "markdown",
   "id": "51c20f44",
   "metadata": {},
   "source": [
    "Load the test dataset"
   ]
  },
  {
   "cell_type": "code",
   "execution_count": 87,
   "id": "af9aa281",
   "metadata": {},
   "outputs": [
    {
     "name": "stdout",
     "output_type": "stream",
     "text": [
      "(892816, 58)\n"
     ]
    }
   ],
   "source": [
    "test_df = pd.read_csv('Dataset/test.csv')\n",
    "print(test_df.shape)"
   ]
  },
  {
   "cell_type": "markdown",
   "id": "7d91a58b",
   "metadata": {},
   "source": [
    "Pre-process the test dataset"
   ]
  },
  {
   "cell_type": "code",
   "execution_count": 90,
   "id": "3234563c",
   "metadata": {},
   "outputs": [],
   "source": [
    "# Separate the id from the test dataset\n",
    "id_df = test_df['id']\n",
    "\n",
    "# Choose only the feature-selection columns of the test dataset into X_df\n",
    "reqd_features = ['ps_calc_02', 'ps_ind_12_bin', 'ps_ind_07_bin', 'ps_ind_15', 'ps_car_08_cat', 'ps_car_02_cat', 'ps_car_13', \n",
    "                 'ps_car_07_cat', 'ps_car_04_cat', 'ps_car_14', 'ps_ind_02_cat', 'ps_ind_17_bin', 'ps_car_11', 'ps_ind_18_bin', \n",
    "                 'ps_car_12', 'ps_ind_04_cat', 'ps_reg_03', 'ps_reg_01', 'ps_car_15', 'ps_calc_01', 'ps_car_09_cat', \n",
    "                 'ps_ind_14', 'ps_ind_16_bin', 'ps_ind_05_cat', 'ps_ind_11_bin', 'ps_ind_01', 'ps_reg_02', 'ps_ind_08_bin', \n",
    "                 'ps_car_10_cat', 'ps_car_03_cat', 'ps_car_05_cat', 'ps_car_01_cat', 'ps_car_06_cat', 'ps_calc_03', \n",
    "                 'ps_ind_10_bin', 'ps_ind_06_bin', 'ps_ind_03', 'ps_ind_09_bin']\n",
    "\n",
    "X_df = test_df[reqd_features]"
   ]
  },
  {
   "cell_type": "code",
   "execution_count": 92,
   "id": "27aac3f9",
   "metadata": {},
   "outputs": [],
   "source": [
    "# Predict PROBABILITIES using ENet Logistic Regression\n",
    "X_pred_prob = enet_model.predict_proba(X_df)\n",
    "\n",
    "# Get JUST the PREDICTION PROBABILITY for positive class\n",
    "X_pred_prob = [ p[1] for p in X_pred_prob ]"
   ]
  },
  {
   "cell_type": "code",
   "execution_count": 102,
   "id": "d14a1247",
   "metadata": {},
   "outputs": [],
   "source": [
    "X_pred_prob = pd.DataFrame(X_pred_prob)\n",
    "\n",
    "# merge id and target to a single dataframe\n",
    "result_df = pd.concat([id_df, X_pred_prob], axis = 1, ignore_index=True)\n",
    "result_df.columns =['id', 'target']"
   ]
  },
  {
   "cell_type": "code",
   "execution_count": 103,
   "id": "712bf3d7",
   "metadata": {},
   "outputs": [
    {
     "data": {
      "text/html": [
       "<div>\n",
       "<style scoped>\n",
       "    .dataframe tbody tr th:only-of-type {\n",
       "        vertical-align: middle;\n",
       "    }\n",
       "\n",
       "    .dataframe tbody tr th {\n",
       "        vertical-align: top;\n",
       "    }\n",
       "\n",
       "    .dataframe thead th {\n",
       "        text-align: right;\n",
       "    }\n",
       "</style>\n",
       "<table border=\"1\" class=\"dataframe\">\n",
       "  <thead>\n",
       "    <tr style=\"text-align: right;\">\n",
       "      <th></th>\n",
       "      <th>id</th>\n",
       "      <th>target</th>\n",
       "    </tr>\n",
       "  </thead>\n",
       "  <tbody>\n",
       "    <tr>\n",
       "      <th>0</th>\n",
       "      <td>0</td>\n",
       "      <td>0.028421</td>\n",
       "    </tr>\n",
       "    <tr>\n",
       "      <th>1</th>\n",
       "      <td>1</td>\n",
       "      <td>0.028427</td>\n",
       "    </tr>\n",
       "    <tr>\n",
       "      <th>2</th>\n",
       "      <td>2</td>\n",
       "      <td>0.026787</td>\n",
       "    </tr>\n",
       "    <tr>\n",
       "      <th>3</th>\n",
       "      <td>3</td>\n",
       "      <td>0.018899</td>\n",
       "    </tr>\n",
       "    <tr>\n",
       "      <th>4</th>\n",
       "      <td>4</td>\n",
       "      <td>0.032291</td>\n",
       "    </tr>\n",
       "  </tbody>\n",
       "</table>\n",
       "</div>"
      ],
      "text/plain": [
       "   id    target\n",
       "0   0  0.028421\n",
       "1   1  0.028427\n",
       "2   2  0.026787\n",
       "3   3  0.018899\n",
       "4   4  0.032291"
      ]
     },
     "execution_count": 103,
     "metadata": {},
     "output_type": "execute_result"
    }
   ],
   "source": [
    "result_df.head()"
   ]
  },
  {
   "cell_type": "code",
   "execution_count": 104,
   "id": "e1df0df5",
   "metadata": {},
   "outputs": [],
   "source": [
    "# Save the results_df dataframe to a new file\n",
    "result_df.to_csv('Output/enet_output.csv', index=None)"
   ]
  },
  {
   "cell_type": "markdown",
   "id": "67e12d32",
   "metadata": {},
   "source": [
    "### Upload the output file in kaggle to get the Evaluation score"
   ]
  },
  {
   "cell_type": "markdown",
   "id": "d2f38901",
   "metadata": {},
   "source": [
    "Uploading the output file in kaggle submission gives a **score = 0.24857**, while the **kaggle leader score is 0.29698**"
   ]
  },
  {
   "attachments": {
    "enet_submission_score.jpg": {
     "image/jpeg": "[encoded data removed]"
    }
   },
   "cell_type": "markdown",
   "id": "204d21cf",
   "metadata": {},
   "source": [
    "![enet_submission_score.jpg](attachment:enet_submission_score.jpg)"
   ]
  }
 ],
 "metadata": {
  "kernelspec": {
   "display_name": "Python 3 (ipykernel)",
   "language": "python",
   "name": "python3"
  },
  "language_info": {
   "codemirror_mode": {
    "name": "ipython",
    "version": 3
   },
   "file_extension": ".py",
   "mimetype": "text/x-python",
   "name": "python",
   "nbconvert_exporter": "python",
   "pygments_lexer": "ipython3",
   "version": "3.7.13"
  }
 },
 "nbformat": 4,
 "nbformat_minor": 5
}
