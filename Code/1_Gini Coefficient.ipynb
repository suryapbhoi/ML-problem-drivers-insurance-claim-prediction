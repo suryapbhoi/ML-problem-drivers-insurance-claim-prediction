{
 "cells": [
  {
   "cell_type": "markdown",
   "id": "c4b77113",
   "metadata": {},
   "source": [
    "# Jupyter notebook to get the Normalized Gini Coefficient"
   ]
  },
  {
   "cell_type": "markdown",
   "id": "27203618",
   "metadata": {},
   "source": [
    "Supress Jupyter notebook warnings"
   ]
  },
  {
   "cell_type": "code",
   "execution_count": 47,
   "id": "88c84cd5",
   "metadata": {},
   "outputs": [],
   "source": [
    "import warnings\n",
    "warnings.filterwarnings(\"ignore\")"
   ]
  },
  {
   "cell_type": "markdown",
   "id": "067668b3",
   "metadata": {},
   "source": [
    "Import the necessary libraries"
   ]
  },
  {
   "cell_type": "code",
   "execution_count": 48,
   "id": "82ef88f7",
   "metadata": {},
   "outputs": [],
   "source": [
    "import numpy as np\n",
    "import matplotlib.pyplot as plt\n",
    "import scipy.interpolate\n",
    "import scipy.integrate"
   ]
  },
  {
   "cell_type": "markdown",
   "id": "c17c35fa",
   "metadata": {},
   "source": [
    "\n",
    "Sample actual and predicted values:"
   ]
  },
  {
   "cell_type": "code",
   "execution_count": 49,
   "id": "8dd73c36",
   "metadata": {},
   "outputs": [],
   "source": [
    "# Sample actual and predicted values\n",
    "actual = [1, 1, 1, 1, 1, 1, 0, 0, 0, 0, 0, 0, 0, 0, 0]\n",
    "predict = [0.9, 0.3, 0.8, 0.75, 0.65, 0.6, 0.78, 0.7, 0.05, 0.4, 0.4, 0.05, 0.5, 0.1, 0.1]"
   ]
  },
  {
   "cell_type": "markdown",
   "id": "b89b0146",
   "metadata": {},
   "source": [
    "Functions to calculate Gini coefficient and Normalized Gini Coefficient <br>(Source: https://www.kaggle.com/c/ClaimPredictionChallenge/discussion/703 )"
   ]
  },
  {
   "cell_type": "code",
   "execution_count": 50,
   "id": "666f4807",
   "metadata": {},
   "outputs": [],
   "source": [
    "def gini(actual, pred):\n",
    "    if (len(actual) == len(pred)):\n",
    "        all = np.asarray(np.c_[actual, pred, np.arange(len(actual))], dtype=np.float)\n",
    "        all = all[np.lexsort((all[:, 2], -1 * all[:, 1]))]\n",
    "        totalLosses = all[:, 0].sum()\n",
    "        giniSum = all[:, 0].cumsum().sum() / totalLosses\n",
    "\n",
    "        giniSum -= (len(actual) + 1) / 2.\n",
    "        return giniSum / len(actual)\n",
    "    return 0\n",
    "\n",
    "def gini_normalized(actual, pred):\n",
    "    return gini(actual, pred) / gini(actual, actual)"
   ]
  },
  {
   "cell_type": "markdown",
   "id": "da45b4b5",
   "metadata": {},
   "source": [
    "Get the Gini coefficient rounded to two decimal places"
   ]
  },
  {
   "cell_type": "code",
   "execution_count": 51,
   "id": "d9d49665",
   "metadata": {},
   "outputs": [
    {
     "name": "stdout",
     "output_type": "stream",
     "text": [
      "0.19\n"
     ]
    }
   ],
   "source": [
    "print( round( gini(actual, predict), 2 ) )"
   ]
  },
  {
   "cell_type": "markdown",
   "id": "1b3078c4",
   "metadata": {},
   "source": [
    "Get the maximum Gini value rounded to two decimal places"
   ]
  },
  {
   "cell_type": "code",
   "execution_count": 52,
   "id": "4107ef23",
   "metadata": {
    "scrolled": true
   },
   "outputs": [
    {
     "name": "stdout",
     "output_type": "stream",
     "text": [
      "0.3\n"
     ]
    }
   ],
   "source": [
    "print( round(gini(actual, actual), 2) )"
   ]
  },
  {
   "cell_type": "markdown",
   "id": "a67c48b0",
   "metadata": {},
   "source": [
    "Get the Normalized Gini Coefficient rounded to two decimal places"
   ]
  },
  {
   "cell_type": "code",
   "execution_count": 53,
   "id": "62fe0874",
   "metadata": {},
   "outputs": [
    {
     "name": "stdout",
     "output_type": "stream",
     "text": [
      "0.63\n"
     ]
    }
   ],
   "source": [
    "print( round( gini_normalized(actual, predict), 2 ) )"
   ]
  }
 ],
 "metadata": {
  "kernelspec": {
   "display_name": "Python 3 (ipykernel)",
   "language": "python",
   "name": "python3"
  },
  "language_info": {
   "codemirror_mode": {
    "name": "ipython",
    "version": 3
   },
   "file_extension": ".py",
   "mimetype": "text/x-python",
   "name": "python",
   "nbconvert_exporter": "python",
   "pygments_lexer": "ipython3",
   "version": "3.7.13"
  }
 },
 "nbformat": 4,
 "nbformat_minor": 5
}
